{
 "cells": [
  {
   "cell_type": "markdown",
   "metadata": {},
   "source": [
    "# Buscando Vagas com Linkedin, utilizando o Selenium"
   ]
  },
  {
   "cell_type": "markdown",
   "metadata": {},
   "source": [
    " - Instalando a biblioteca selenium."
   ]
  },
  {
   "cell_type": "code",
   "execution_count": 1,
   "metadata": {},
   "outputs": [
    {
     "name": "stdout",
     "output_type": "stream",
     "text": [
      "Requirement already satisfied: selenium in c:\\users\\biena\\anaconda3\\lib\\site-packages (3.141.0)\n",
      "Requirement already satisfied: urllib3 in c:\\users\\biena\\anaconda3\\lib\\site-packages (from selenium) (1.25.9)\n"
     ]
    }
   ],
   "source": [
    "!pip install selenium"
   ]
  },
  {
   "cell_type": "markdown",
   "metadata": {},
   "source": [
    " - Importando webdriver."
   ]
  },
  {
   "cell_type": "code",
   "execution_count": 2,
   "metadata": {},
   "outputs": [],
   "source": [
    "from  selenium  import webdriver\n",
    "from time import sleep"
   ]
  },
  {
   "cell_type": "markdown",
   "metadata": {},
   "source": [
    "###   Abrindo o navegador :"
   ]
  },
  {
   "cell_type": "markdown",
   "metadata": {},
   "source": [
    "  - É necesário fazer o download do Chromedriver  com a versão compatível do seu navegador e deixá-lo no mesmo path do arquivo que deseja executar .\n",
    "  - Caso não teha feito o download, este é o link : https://chromedriver.chromium.org/downloads"
   ]
  },
  {
   "cell_type": "code",
   "execution_count": 3,
   "metadata": {},
   "outputs": [],
   "source": [
    "driver = webdriver.Chrome()"
   ]
  },
  {
   "cell_type": "markdown",
   "metadata": {},
   "source": [
    " - Digitando a URL desejada,pelo método \"get('URL')\""
   ]
  },
  {
   "cell_type": "code",
   "execution_count": 4,
   "metadata": {},
   "outputs": [],
   "source": [
    "driver.get('http://google.com')"
   ]
  },
  {
   "cell_type": "markdown",
   "metadata": {},
   "source": [
    "### Utilizando webdriver-manager\n",
    "\n",
    "- não precisamos fazer o download do Chromedriver.\n",
    "- de webdriver_manager importamos ChromeDriverManager\n",
    "- depois instalamos ChromeDriverManager\n",
    "\n",
    "O passo a passo acima pode ser visto no exemplo abaixo :"
   ]
  },
  {
   "cell_type": "code",
   "execution_count": 5,
   "metadata": {},
   "outputs": [
    {
     "name": "stderr",
     "output_type": "stream",
     "text": [
      "[WDM] - Current google-chrome version is 86.0.4240\n",
      "[WDM] - Get LATEST driver version for 86.0.4240\n"
     ]
    },
    {
     "name": "stdout",
     "output_type": "stream",
     "text": [
      " \n"
     ]
    },
    {
     "name": "stderr",
     "output_type": "stream",
     "text": [
      "[WDM] - Driver [C:\\Users\\Biena\\.wdm\\drivers\\chromedriver\\win32\\86.0.4240.22\\chromedriver.exe] found in cache\n"
     ]
    }
   ],
   "source": [
    "from webdriver_manager.chrome import ChromeDriverManager\n",
    "d = webdriver.Chrome(ChromeDriverManager().install())"
   ]
  },
  {
   "cell_type": "code",
   "execution_count": 6,
   "metadata": {},
   "outputs": [],
   "source": [
    "d.get('http://google.com')"
   ]
  },
  {
   "cell_type": "code",
   "execution_count": 7,
   "metadata": {},
   "outputs": [],
   "source": [
    "d.quit()"
   ]
  },
  {
   "cell_type": "markdown",
   "metadata": {},
   "source": [
    "## Acessando os elementos da página"
   ]
  },
  {
   "cell_type": "markdown",
   "metadata": {},
   "source": [
    "### Barra de pesquisa"
   ]
  },
  {
   "cell_type": "markdown",
   "metadata": {},
   "source": [
    " - Pegando o xpath da barra de pesquisa e atribuindo a uma variável"
   ]
  },
  {
   "cell_type": "code",
   "execution_count": 8,
   "metadata": {},
   "outputs": [],
   "source": [
    "barra_de_pesquisa_xpath = '//*[@id=\"tsf\"]/div[2]/div[1]/div[1]/div/div[2]/input'"
   ]
  },
  {
   "cell_type": "markdown",
   "metadata": {},
   "source": [
    " - Criando a variável \"barra_de_pesquisa\""
   ]
  },
  {
   "cell_type": "code",
   "execution_count": 9,
   "metadata": {},
   "outputs": [],
   "source": [
    "barra_de_pesquisa = driver.find_element_by_xpath(barra_de_pesquisa_xpath)"
   ]
  },
  {
   "cell_type": "markdown",
   "metadata": {},
   "source": [
    " - Enviando o que deseja pesquisar:\n",
    "  - Neste caso\"\\n\" faz a função do enter ou a ação de clicar em pesquisar."
   ]
  },
  {
   "cell_type": "code",
   "execution_count": 10,
   "metadata": {},
   "outputs": [],
   "source": [
    "barra_de_pesquisa.send_keys('vagas ciencia de dados\\n ')"
   ]
  },
  {
   "cell_type": "markdown",
   "metadata": {},
   "source": [
    "## Acessando o linkedin"
   ]
  },
  {
   "cell_type": "markdown",
   "metadata": {},
   "source": [
    " - Manualmente , pegamos um dos links da pesquisa acima, no caso o do linkedin, para utilizarmos como URL da nova pesquisa ."
   ]
  },
  {
   "cell_type": "code",
   "execution_count": 11,
   "metadata": {},
   "outputs": [],
   "source": [
    "driver.get('https://br.linkedin.com/jobs/ci%C3%AAncia-de-dados-vagas?position=1&pageNum=0')"
   ]
  },
  {
   "cell_type": "markdown",
   "metadata": {},
   "source": [
    "### Criando a variável \"descricao\" , referente a descrição da vaga .\n",
    " - Pegando o xpath descrição da vaga \n",
    " - Criando a variável \"descrição\" que contém o texto com a  descrição sobre a vaga . "
   ]
  },
  {
   "cell_type": "code",
   "execution_count": 12,
   "metadata": {},
   "outputs": [],
   "source": [
    "descricao_xpath = '//*[@id=\"main-content\"]/section/div[2]/section[2]'"
   ]
  },
  {
   "cell_type": "code",
   "execution_count": 32,
   "metadata": {},
   "outputs": [],
   "source": [
    "descricao  = driver.find_element_by_xpath(descricao_xpath)"
   ]
  },
  {
   "cell_type": "markdown",
   "metadata": {},
   "source": [
    " - criando a variável descrição utilizando a Class"
   ]
  },
  {
   "cell_type": "code",
   "execution_count": 15,
   "metadata": {},
   "outputs": [],
   "source": [
    "descricao_class = driver.find_element_by_class_name('description__text')"
   ]
  },
  {
   "cell_type": "markdown",
   "metadata": {},
   "source": [
    " - Visualizando o texto como está na pagina."
   ]
  },
  {
   "cell_type": "code",
   "execution_count": null,
   "metadata": {},
   "outputs": [],
   "source": [
    "# print(descricao.text) , zisualiza o texto como etá na página\n",
    "# descricao.text , vizuladiza o texto "
   ]
  },
  {
   "cell_type": "markdown",
   "metadata": {},
   "source": [
    "## Selecionando as os resultados da pesquisa "
   ]
  },
  {
   "cell_type": "markdown",
   "metadata": {},
   "source": [
    "### Criando uma lista com os resultados da primeira página de 2 maneiras"
   ]
  },
  {
   "cell_type": "markdown",
   "metadata": {},
   "source": [
    "### Primeira maneira\n",
    "\n",
    " - Utilizando um elemento em comum.\n",
    " - No caso da pesquisa, class_name =  \"result-card\", foi o elemento interno em comum escolhido."
   ]
  },
  {
   "cell_type": "code",
   "execution_count": 18,
   "metadata": {},
   "outputs": [],
   "source": [
    "# resultados by_class_name\n",
    "resultados = driver.find_elements_by_class_name('result-card')"
   ]
  },
  {
   "cell_type": "code",
   "execution_count": 19,
   "metadata": {},
   "outputs": [
    {
     "data": {
      "text/plain": [
       "24"
      ]
     },
     "execution_count": 19,
     "metadata": {},
     "output_type": "execute_result"
    }
   ],
   "source": [
    "len(resultados)"
   ]
  },
  {
   "cell_type": "markdown",
   "metadata": {},
   "source": [
    "### Segunda maneira \n",
    " \n",
    " - Utilizando um elemento externo mais abrangente.\n",
    " - Foi utilizado o nome geral da class da pesquisa \"results__list\"\n",
    " - Foi selecionado um elemento  em comum dentro da class. Ex : tag \"li\""
   ]
  },
  {
   "cell_type": "code",
   "execution_count": 20,
   "metadata": {},
   "outputs": [],
   "source": [
    "results_list = driver.find_element_by_class_name('results__list')"
   ]
  },
  {
   "cell_type": "code",
   "execution_count": 21,
   "metadata": {},
   "outputs": [],
   "source": [
    "results_list_tag = results_list.find_elements_by_tag_name('li')"
   ]
  },
  {
   "cell_type": "code",
   "execution_count": 22,
   "metadata": {},
   "outputs": [
    {
     "data": {
      "text/plain": [
       "24"
      ]
     },
     "execution_count": 22,
     "metadata": {},
     "output_type": "execute_result"
    }
   ],
   "source": [
    "len(results_list_tag)"
   ]
  },
  {
   "cell_type": "markdown",
   "metadata": {},
   "source": [
    "## Clicando nos resultados da pesquisa\n",
    "\n",
    " - criamos uma lista para salvar o resultado das pesquisas.\n",
    " - por meio do loop while e loop for podemos clicar em todos os resultados da página e pegar a descrição referente e a cada vaga."
   ]
  },
  {
   "cell_type": "code",
   "execution_count": 23,
   "metadata": {},
   "outputs": [
    {
     "name": "stdout",
     "output_type": "stream",
     "text": [
      "Numero de resultados 49 \n",
      "Numero de descricoes salvas 24\n",
      "Numero de resultados 72 \n",
      "Numero de descricoes salvas 49\n",
      "Numero de resultados 97 \n",
      "Numero de descricoes salvas 72\n",
      "Numero de resultados 122 \n",
      "Numero de descricoes salvas 97\n",
      "Numero de resultados 147 \n",
      "Numero de descricoes salvas 122\n",
      "Numero de resultados 172 \n",
      "Numero de descricoes salvas 147\n",
      "Numero de resultados 172 \n",
      "Numero de descricoes salvas 172\n"
     ]
    }
   ],
   "source": [
    "resultados = driver.find_elements_by_class_name('result-card')\n",
    "lista_descricoes = []\n",
    "\n",
    "\n",
    "while True:\n",
    "    for i in resultados[len(lista_descricoes):]:\n",
    "        i.click()\n",
    "        sleep(1)\n",
    "        try:\n",
    "            descricao_class = driver.find_element_by_class_name('description__text')\n",
    "#           descricao  = driver.find_element_by_xpath(descricao_xpath)\n",
    "            lista_descricoes.append(descricao_class.text)\n",
    "        except:\n",
    "            pass\n",
    "        \n",
    "    resultados = driver.find_elements_by_class_name('result-card')\n",
    "    \n",
    "    print(f'Numero de resultados {len(resultados)} ')\n",
    "    print(f'Numero de descricoes salvas {len(lista_descricoes)}')\n",
    "    \n",
    "    if len(lista_descricoes) == len(resultados) :\n",
    "        break\n"
   ]
  },
  {
   "cell_type": "code",
   "execution_count": null,
   "metadata": {},
   "outputs": [],
   "source": [
    "# loop para pegar apenas os primeiros resultados da pesquisa\n",
    "\n",
    "# lista_descricoes = []\n",
    "# for i in resultados:\n",
    "#     i.click()\n",
    "#     sleep(1)\n",
    "#     descricao  = driver.find_element_by_xpath(descricao_xpath)\n",
    "# #   descricao_class = driver.find_element_by_class_name('description')\n",
    "#     lista_descricoes.append(descricao.text)"
   ]
  },
  {
   "cell_type": "markdown",
   "metadata": {},
   "source": [
    "## Salvando os resultados da pesquisa em um arquivo TXT\n",
    "\n",
    " - Transformando \"lista_descricoes\" em um texto, utilizando método join().\n",
    " - Criando o arquivo  \"descricoes_vagas.txt\""
   ]
  },
  {
   "cell_type": "code",
   "execution_count": 33,
   "metadata": {},
   "outputs": [],
   "source": [
    "descricoes_salvar_1 = '\\n'.join(lista_descricoes)\n",
    "with open('desccricoes_vagas_1.txt', 'w', encoding='utf-8') as f:\n",
    "    f.write(descricoes_salvar_1)"
   ]
  },
  {
   "cell_type": "code",
   "execution_count": 34,
   "metadata": {},
   "outputs": [],
   "source": [
    "driver.quit()"
   ]
  }
 ],
 "metadata": {
  "kernelspec": {
   "display_name": "Python 3",
   "language": "python",
   "name": "python3"
  },
  "language_info": {
   "codemirror_mode": {
    "name": "ipython",
    "version": 3
   },
   "file_extension": ".py",
   "mimetype": "text/x-python",
   "name": "python",
   "nbconvert_exporter": "python",
   "pygments_lexer": "ipython3",
   "version": "3.8.3"
  }
 },
 "nbformat": 4,
 "nbformat_minor": 4
}
