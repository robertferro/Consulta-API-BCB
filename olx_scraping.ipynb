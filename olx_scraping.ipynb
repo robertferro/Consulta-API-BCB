{
 "cells": [
  {
   "cell_type": "code",
   "execution_count": 1,
   "metadata": {},
   "outputs": [],
   "source": [
    "import requests"
   ]
  },
  {
   "cell_type": "code",
   "execution_count": 2,
   "metadata": {},
   "outputs": [],
   "source": [
    "url = 'https://www.olx.com.br/autos-e-pecas/carros-vans-e-utilitarios'\n",
    "\n",
    "headers = {'user-agent':'Mozilla/5.0 (Windows NT 6.1; Win64; x64) AppleWebKit/537.36 (KHTML, like Gecko) Chrome/88.0.4324.182 Safari/537.36'}\n",
    "c = requests.get(url, headers = headers).content"
   ]
  },
  {
   "cell_type": "code",
   "execution_count": 3,
   "metadata": {},
   "outputs": [],
   "source": [
    "from bs4 import BeautifulSoup"
   ]
  },
  {
   "cell_type": "code",
   "execution_count": 4,
   "metadata": {},
   "outputs": [],
   "source": [
    "soup = BeautifulSoup(c)"
   ]
  },
  {
   "cell_type": "markdown",
   "metadata": {},
   "source": [
    "## Criando uma lista com os preços dos carros"
   ]
  },
  {
   "cell_type": "code",
   "execution_count": 13,
   "metadata": {},
   "outputs": [],
   "source": [
    "lista_precos_tags = soup.find_all('p', {'class':\"eoKYee\"})"
   ]
  },
  {
   "cell_type": "markdown",
   "metadata": {},
   "source": [
    "- For loop para obter a lista de preços"
   ]
  },
  {
   "cell_type": "code",
   "execution_count": 16,
   "metadata": {},
   "outputs": [],
   "source": [
    "# lista_precos = []\n",
    "# for tag in lista_precos_tags:\n",
    "#     lista_precos.append(tag.text)\n",
    "# lista_precos"
   ]
  },
  {
   "cell_type": "markdown",
   "metadata": {},
   "source": [
    " - List comprehension"
   ]
  },
  {
   "cell_type": "code",
   "execution_count": 18,
   "metadata": {},
   "outputs": [
    {
     "data": {
      "text/plain": [
       "['R$ 108.000',\n",
       " 'R$ 33.987',\n",
       " 'R$ 15.900',\n",
       " 'R$ 84.290',\n",
       " 'R$ 85.000',\n",
       " 'R$ 119.900',\n",
       " 'R$ 83.990',\n",
       " 'R$ 33.900',\n",
       " 'R$ 45.900',\n",
       " 'R$ 47.890']"
      ]
     },
     "execution_count": 18,
     "metadata": {},
     "output_type": "execute_result"
    }
   ],
   "source": [
    "# for loop utilizando list compreehension\n",
    "lista_precos  = [tag.text for tag in lista_precos_tags]\n",
    "lista_precos[0:10]"
   ]
  },
  {
   "cell_type": "markdown",
   "metadata": {},
   "source": [
    "## Criando uma lista com algumas caraterísticas do modelo."
   ]
  },
  {
   "cell_type": "code",
   "execution_count": 22,
   "metadata": {},
   "outputs": [],
   "source": [
    "lista_caracteristicas_tags = soup.find_all('div', {'class':'sc-bwzfXH'})"
   ]
  },
  {
   "cell_type": "code",
   "execution_count": 26,
   "metadata": {},
   "outputs": [
    {
     "data": {
      "text/plain": [
       "['',\n",
       " 'Procurar pelo título do anúncioBusca por categoriasTodas as categoriasAutos e peçasCarros, vans e utilitáriosMarcaCITROENFIATFORDGM - CHEVROLETHONDAHYUNDAIJACKIA MOTORSNISSANPEUGEOTRENAULTTOYOTAVW - VOLKSWAGENACURAAGRALEALFA ROMEOAM GENAMERICARASIA MOTORSASTON MARTINAUDIBABYBMWBRMBUGGYBUGRECADILLACCBT JIPECHANACHANGANCHERYCHRYSLERCROSS LANDERDAEWOODAIHATSUDKW VEMAGDODGEEFFAENGESAENVEMOFERRARIFIBRAVANFOTONFYBERGEELYGREAT WALLGURGELHAFEIHITECH ELETRICINFINITIISUZUIVECOJAGUARJEEPJINBEIJPXLADALAMBORGHINILAND ROVERLANDWINDLEXUSLIFANLOBINILOTUSMAHINDRAMASERATIMATRAMAZDAMCLARENMERCEDES-BENZMERCURYMGMINIMITSUBISHIMIURAPLYMOUTHPONTIACPORSCHEPUMARAMRELYROLLS-ROYCEROVERSAABSATURNSEATSHINERAYSMARTSSANGYONGSUBARUSUZUKITACTESLATROLLERVOLVOWAKEWALKModeloQuilometragemKm de05.00010.00020.00030.00040.00060.00080.000100.000120.000140.000160.000180.000200.000250.000300.000400.000500.000Km até05.00010.00020.00030.00040.00060.00080.000100.000120.000140.000160.000180.000200.000250.000300.000400.000500.000AnoDo ano20222021202020192018201720162015201420132012201120102009200820072006200520042003200220012000199919981997199619951994199319921991199019851980197519701965196019551950 ou anteriorAté ano20222021202020192018201720162015201420132012201120102009200820072006200520042003200220012000199919981997199619951994199319921991199019851980197519701965196019551950 ou anteriorPreçoCâmbioManualAutomáticoSemi-AutomáticoCombustívelGasolinaÁlcoolFlexGás NaturalDieselTipoPasseioConversívelPick-upAntigoSUVBuggyVan/UtilitárioSedãHatchOpcionaisAr condicionadoDireção hidráulicaVidro elétricoTrava elétricaAir bagAlarmeSomSensor de réCâmera de réBlindadoBrasilAcre, 2.047Alagoas, 7.257Amapá, 1.052Amazonas, 11.017Bahia, 33.579Ceará, 18.544Distrito Federal, 40.288Espírito Santo, 17.578Goiás, 27.872Maranhão, 6.908Mato Grosso, 5.375Mato Grosso do Sul, 7.118Minas Gerais, 70.662Pará, 19.406Paraíba, 8.830Paraná, 61.414Pernambuco, 24.231Piauí, 3.170Rio de Janeiro, 74.188Rio Grande do Norte, 8.203Rio Grande do Sul, 40.365Rondônia, 3.712Roraima, 2.484Santa Catarina, 43.878São Paulo, 206.089Sergipe, 6.407Tocantins, 3.104LocalizaçãoCarros, vans e utilitáriosTodas as Categorias-- Imóveis --Venda - casas e apartamentosAluguel - casas e apartamentosTemporadaTerrenos, sítios e fazendasComércio e indústriaLançamentos-- Autos e peças --Carros, vans e utilitáriosCaminhõesÔnibusMotosBarcos e aeronavesPeças e acessóriosPeças para carros, vans e utilitáriosPeças para caminhõesPeças para motosPeças para barcos e aeronavesPeças para ônibus-- Eletrônicos e celulares --VideogamesComputadores e acessóriosCelulares e telefoniaÁudio, TV, vídeo e fotografia-- Para a sua casa --MóveisEletrodomésticosMateriais de construção e jardimUtilidades domésticasObjetos de decoração-- Esportes e lazer --Esportes e ginásticaCiclismo-- Serviços --Vagas de empregoServiçosOutros itens para comércio e escritório-- Moda e beleza --Beleza e saúdeRoupas e calçadosBolsas, malas e mochilasBijouterias, relógios e acessórios-- Artigos infantis --Artigos infantis-- Animais de estimação --CachorrosGatosCavalosAquários e acessóriosRoedoresOutros animais-- Música e hobbies --Instrumentos musicaisCDs, DVDs etcLivros e revistasAntiguidadesHobbies e coleções-- Agro e indústria --Tratores e máquinas agrícolasPeças para tratores e máquinasEquipamentos e mobiliárioTrailers e carrinhos comerciaisAnimais para agropecuáriaMáquinas pesadas para construçãoMáquinas para produção industrialOutros itens para agro e indústriaProdução Rural-- Vagas de emprego ---- Comércio e escritório --FiltrosProcurar pelo título do anúncio1 - 50 de 754.778 resultadosCarros, vans e utilitários no BrasilTipo de anúncio:ParticularProfissionalPagamento e entregaCategoria sem OLX PayTipos de anúncioTodos os anúnciosOrdenar porMais Relevantes6DESTAQUECitroen pack completa21.000 km | Câmbio: Manual | DieselR$ 108.000Hoje18:10Poá -  SPCitroen pack completaR$ 108.000Hoje às 18:10 15308 Active Pack 1.6 4P T.E.T.O. P.A.N.O.R.A.M.I.C.O * Apenas R$ 3.000,00 de Entrada55.000 km | Câmbio: Manual | FlexAnunciante onlineR$ 33.987Hoje18:10Vila Velha -  ESProfissional308 Active Pack 1.6 4P T.E.T.O. P.A.N.O.R.A.M.I.C.O * Apenas R$ 3.000,00 de EntradaR$ 33.987Anunciante onlineHoje às 18:10 - Profissional12Xsara Picasso Exclusive 1.6 2008 Flex!! Mêcanica!!130.000 km | Câmbio: Manual | FlexAnunciante onlineR$ 15.900R$ 20.900Hoje18:10Londrina -  PRProfissionalXsara Picasso Exclusive 1.6 2008 Flex!! Mêcanica!!R$ 15.900Anunciante onlineHoje às 18:10 - Profissional12Toro endurance 1.8 Flex aut 2019/201956.333 km | Câmbio: Automático | FlexR$ 84.290Hoje18:10Goiânia -  GOProfissionalToro endurance 1.8 Flex aut 2019/2019R$ 84.290Hoje às 18:10 - Profissional20Creta Pulse 1.6 201818.321 km | Câmbio: Automático | FlexR$ 85.000Hoje18:10Recife -  PEProfissionalCreta Pulse 1.6 2018R$ 85.000Hoje às 18:10 - Profissional20Jeep Grand Cherokee Limited 2014/15 Gasolina blindado 3A115.000 km | Câmbio: Automático | GasolinaR$ 119.900Hoje18:10Goiânia -  GOProfissionalJeep Grand Cherokee Limited 2014/15 Gasolina blindado 3AR$ 119.900Hoje às 18:10 - Profissional4KICKS SL 2018 KM 40 MIL 40.000 km | Câmbio: Automático | FlexR$ 83.990Hoje18:10Duque de Caxias -  RJProfissionalKICKS SL 2018 KM 40 MIL R$ 83.990Hoje às 18:10 - Profissional7Cobalt 1.8 LT94.000 km | Câmbio: Manual | FlexR$ 33.900Hoje18:10Caxias do Sul -  RSProfissionalCobalt 1.8 LTR$ 33.900Hoje às 18:10 - Profissional9Hyundai HB20 Unique 1.0 Flex 12V Mec66.142 km | Câmbio: Manual | FlexAnunciante onlineR$ 45.900Hoje18:10São Leopoldo -  RSProfissionalHyundai HB20 Unique 1.0 Flex 12V MecR$ 45.900Anunciante onlineHoje às 18:10 - Profissional12FIAT SIENA 1.42.200 km | Câmbio: Manual | FlexR$ 47.890Hoje18:10Duque de Caxias -  RJProfissionalFIAT SIENA 1.4R$ 47.890Hoje às 18:10 - Profissional6Kicks 2020 SL cvt36.000 km | Câmbio: Automático | FlexR$ 95.890R$ 95.990Hoje18:10Duque de Caxias -  RJProfissionalKicks 2020 SL cvtR$ 95.890Hoje às 18:10 - Profissional12Toyota Corolla xei aut 2.0 flex blindado ano:201374.425 km | Câmbio: Automático | FlexR$ 56.900Hoje18:10Recife -  PEProfissionalToyota Corolla xei aut 2.0 flex blindado ano:2013R$ 56.900Hoje às 18:10 - Profissional6Kwid zen 2018 de $33.990 por $30.99097.500 km | Câmbio: Manual | FlexR$ 30.990Hoje18:10São Paulo -  SPProfissionalKwid zen 2018 de $33.990 por $30.990R$ 30.990Hoje às 18:10 - Profissional10Nissan Kicks 1.6 16v flexstart sv 4p xtronic4.600 km | Câmbio: Automático | FlexR$ 93.990Hoje18:10Rio de Janeiro -  RJProfissionalNissan Kicks 1.6 16v flexstart sv 4p xtronicR$ 93.990Hoje às 18:10 - Profissional10BMW 320i 2.0 16V TURBO M SPORT0 km | Câmbio: Automático | GasolinaR$ 79.900Hoje18:10Curitiba -  PRProfissionalBMW 320i 2.0 16V TURBO M SPORTR$ 79.900Hoje às 18:10 - Profissional5Uno Attractive branco 2016.201737.000 km | Câmbio: Manual | ÁlcoolR$ 32.000Hoje18:10Ribeirão Preto -  SPUno Attractive branco 2016.2017R$ 32.000Hoje às 18:10 9Hb20x 1.6m style 2015 impecável49.800 km | Câmbio: Manual | FlexR$ 40.900Hoje18:10Curitiba -  PRProfissionalHb20x 1.6m style 2015 impecávelR$ 40.900Hoje às 18:10 - Profissional11Sprinter 2.2 415 Luxo Teto Alto 16 Lugares 2018 - Novíssima!!!361.000 km | Câmbio: Manual | DieselAnunciante onlineR$ 156.000Hoje18:10São Paulo -  SPProfissionalSprinter 2.2 415 Luxo Teto Alto 16 Lugares 2018 - Novíssima!!!R$ 156.000Anunciante onlineHoje às 18:10 - Profissional8Fiat Strada 1.4 MPI HARD WORKING CS 8V FLEX 2P MANUAL117.479 km | Câmbio: Manual | FlexR$ 47.900Hoje18:10Ribeirão Preto -  SPProfissionalFiat Strada 1.4 MPI HARD WORKING CS 8V FLEX 2P MANUALR$ 47.900Hoje às 18:10 - ProfissionalJAC T50 1.6 DVVT CVT 4P31.000 km | Câmbio: Automático | FlexR$ 89.900Hoje18:10Porto Alegre -  RSProfissionalJAC T50 1.6 DVVT CVT 4PR$ 89.900Hoje às 18:10 - Profissional10Virtus MSI 1.6 FLEX 201935.693 km | Câmbio: Manual | FlexR$ 62.590Hoje18:10Londrina -  PRProfissionalVirtus MSI 1.6 FLEX 2019R$ 62.590Hoje às 18:10 - Profissional7Honda new fit exl 1.5 16v flex 2009/2009170.000 km | Câmbio: Manual | FlexR$ 33.900Hoje18:10Brusque -  SCProfissionalHonda new fit exl 1.5 16v flex 2009/2009R$ 33.900Hoje às 18:10 - Profissional13NISSAN MARCH 2016 APENAS KM 61.000 !!61.000 km | Câmbio: Manual | FlexR$ 33.900Hoje18:10Fortaleza -  CEProfissionalNISSAN MARCH 2016 APENAS KM 61.000 !!R$ 33.900Hoje às 18:10 - Profissional8Hb20 2019 completo IPVA 2021 PAGO63.000 km | Câmbio: Manual | FlexR$ 41.900Hoje18:09Belo Horizonte -  MGProfissionalHb20 2019 completo IPVA 2021 PAGOR$ 41.900Hoje às 18:09 - Profissional13Onix Plus LTZ Turbo 2020 Impecável30.000 km | Câmbio: Automático | FlexR$ 78.890Hoje18:09Praia Grande -  SPProfissionalOnix Plus LTZ Turbo 2020 ImpecávelHoje às 18:09 - Profissional7Porsche Cayenne 4.5 s 4x4 v8 32v88.000 km | Câmbio: Automático | GasolinaR$ 69.780Hoje18:09Campinas -  SPProfissionalPorsche Cayenne 4.5 s 4x4 v8 32vR$ 69.780Hoje às 18:09 - Profissional6Compass Longitude AT 2.0 Flex 21/210 km | Câmbio: Automático | FlexR$ 142.790R$ 166.932Hoje18:09Fortaleza -  CEProfissionalCompass Longitude AT 2.0 Flex 21/21R$ 142.790Hoje às 18:09 - Profissional17SSANGYONG KORANDO C AT99.913 km | Câmbio: Manual | DieselR$ 55.900R$ 61.900Hoje18:09Curitiba -  PRProfissionalSSANGYONG KORANDO C ATR$ 55.900Hoje às 18:09 - Profissional14Fiat Uno Vivace 4 Portas134.000 km | Câmbio: Manual | FlexR$ 20.900Hoje18:09Mogi das Cruzes -  SPProfissionalFiat Uno Vivace 4 PortasR$ 20.900Hoje às 18:09 - Profissional15Fiat Uno Mille Way 1.0 Fire Economy 2010119.430 km | Câmbio: Manual | FlexR$ 17.990Hoje18:09Uberlândia -  MGProfissionalFiat Uno Mille Way 1.0 Fire Economy 2010R$ 17.990Hoje às 18:09 - Profissional13FORD KA SE 2019 APENAS KM 19.000 !19.000 km | Câmbio: Manual | FlexR$ 45.900Hoje18:09Fortaleza -  CEProfissionalFORD KA SE 2019 APENAS KM 19.000 !R$ 45.900Hoje às 18:09 - Profissional6Corolla seg automático 2010 120.000 km | Câmbio: Automático | FlexR$ 42.900Hoje18:09São Paulo -  SPProfissionalCorolla seg automático 2010 R$ 42.900Hoje às 18:09 - Profissional2Renault Logan Life 1.0 12V SCe (Flex)54.762 km | Câmbio: Manual | FlexR$ 50.250R$ 51.270Hoje18:09São Paulo -  SPProfissionalRenault Logan Life 1.0 12V SCe (Flex)R$ 50.250Hoje às 18:09 - Profissional9DESTAQUERanger Limited 3.0 Cabine Dupla 4x4 Diesel139.109 km | Câmbio: Manual | DieselR$ 46.000Hoje18:09Bagé -  RSRanger Limited 3.0 Cabine Dupla 4x4 DieselR$ 46.000Hoje às 18:09 5DESTAQUEVende-se 45.000 km | Câmbio: Manual | FlexAnunciante onlineR$ 49.000Hoje18:09Maceió -  ALVende-se R$ 49.000Anunciante onlineHoje às 18:09 8DESTAQUEVoyage 1.6 MSI Flex 2019 completo90.000 km | Câmbio: Manual | FlexAnunciante onlineR$ 45.500Hoje18:09Piraúba -  MGVoyage 1.6 MSI Flex 2019 completoR$ 45.500Anunciante onlineHoje às 18:09 2Gol 20150 km | Câmbio: ManualR$ 28.100Hoje18:09Manaus -  AMGol 2015R$ 28.100Hoje às 18:09 10Palio atractive 13/13 completo101.000 km | Câmbio: Manual | FlexAnunciante onlineR$ 23.500Hoje18:09Brasília -  DFPalio atractive 13/13 completoR$ 23.500Anunciante onlineHoje às 18:09 6Palio Weekend Trekking 1.4 fire flex 09/10156.700 km | Câmbio: Manual | FlexR$ 22.000Hoje18:09Brasília -  DFPalio Weekend Trekking 1.4 fire flex 09/10R$ 22.000Hoje às 18:09 9DESTAQUEVW Fusca 1972 motor 150063.241 km | Câmbio: Manual | GasolinaR$ 20.000Hoje18:09Curitiba -  PRVW Fusca 1972 motor 1500R$ 20.000Hoje às 18:09 7DESTAQUEEtios no GNV motor 1.5123.000 km | Câmbio: Manual | Gás NaturalAnunciante onlineR$ 28.800Hoje18:09Palhoça -  SCEtios no GNV motor 1.5R$ 28.800Anunciante onlineHoje às 18:09 6DESTAQUEPajero HPE 4x4 3.5 V6 Flex 7Lugares 2016/17170.000 km | Câmbio: Automático | FlexAnunciante onlineR$ 105.000Hoje18:09Tianguá -  CEPajero HPE 4x4 3.5 V6 Flex 7Lugares 2016/17R$ 105.000Anunciante onlineHoje às 18:09 11DESTAQUEKIA Soul 2010/2010 EX 1.6 Gasolina 4P Manual133.000 km | Câmbio: Manual | GasolinaR$ 30.000Hoje18:09Curitiba -  PRKIA Soul 2010/2010 EX 1.6 Gasolina 4P ManualR$ 30.000Hoje às 18:09 19DESTAQUERaridade - Escort Zetec GL 1.8 16v 9.200km para colecionador9.200 km | Câmbio: Manual | GasolinaAnunciante onlineR$ 22.000R$ 25.000Hoje18:09Niterói -  RJRaridade - Escort Zetec GL 1.8 16v 9.200km para colecionadorR$ 22.000Anunciante onlineHoje às 18:09 6DESTAQUEC4 hatch 2011 2012 completo mecanico 1.6 glx217.000 km | Câmbio: Manual | FlexR$ 19.900Hoje18:09Pontal -  SPC4 hatch 2011 2012 completo mecanico 1.6 glxR$ 19.900Hoje às 18:09 12Cruze Ltz 1.4 Turbo Flex 2016/2017 Completo96.000 km | Câmbio: Automático | FlexAnunciante onlineR$ 72.900R$ 74.900Hoje18:09Curitiba -  PRProfissionalCruze Ltz 1.4 Turbo Flex 2016/2017 CompletoR$ 72.900Anunciante onlineHoje às 18:09 - Profissional14Celta 1.0 life / LS MPFI 8v. Flex Powear131.000 km | Câmbio: Manual | FlexR$ 16.900Hoje18:09Belo Horizonte -  MGProfissionalCelta 1.0 life / LS MPFI 8v. Flex PowearR$ 16.900Hoje às 18:09 - Profissional18Jeep Compass Longitude 2018, com apenas 34 mil km rodados34.000 km | Câmbio: Automático | FlexR$ 105.900Hoje18:09Rio de Janeiro -  RJProfissionalJeep Compass Longitude 2018, com apenas 34 mil km rodadosR$ 105.900Hoje às 18:09 - Profissional8Onix 1.4 Effect Único Dono Carimbado Autorizada54.000 km | Câmbio: Manual | FlexR$ 45.999Hoje18:09Natal -  RNProfissionalOnix 1.4 Effect Único Dono Carimbado AutorizadaR$ 45.999Hoje às 18:09 - Profissional7C4 Pallas 2.0 Automático81.000 km | Câmbio: Automático | FlexAnunciante onlineR$ 26.900Hoje18:09São José dos Campos -  SPProfissionalC4 Pallas 2.0 AutomáticoR$ 26.900Anunciante onlineHoje às 18:09 - ProfissionalMais anúnciosPágina 1 de 10012345678910Próxima paginaÚltima pagina',\n",
       " '',\n",
       " '']"
      ]
     },
     "execution_count": 26,
     "metadata": {},
     "output_type": "execute_result"
    }
   ],
   "source": [
    "lista_caracteristicas = [info.text for info in lista_caracteristicas_tags ]\n",
    "lista_caracteristicas[0:5]"
   ]
  },
  {
   "cell_type": "code",
   "execution_count": null,
   "metadata": {},
   "outputs": [],
   "source": []
  },
  {
   "cell_type": "markdown",
   "metadata": {},
   "source": [
    "## Criando uma lista com os endereços"
   ]
  },
  {
   "cell_type": "code",
   "execution_count": null,
   "metadata": {},
   "outputs": [],
   "source": [
    "lista_enderecos_tags = soup.find_all('span' , {'class':'ui-search-item__group__element'})"
   ]
  },
  {
   "cell_type": "code",
   "execution_count": null,
   "metadata": {},
   "outputs": [],
   "source": [
    "lista_enderecos = [end.text for end in lista_enderecos_tags]\n",
    "lista_enderecos = lista_enderecos[1::2]\n",
    "lista_enderecos[:5]"
   ]
  },
  {
   "cell_type": "markdown",
   "metadata": {},
   "source": [
    "## Criando  função que retorna um DataFrame com as informaçoes obtidas anteriormente"
   ]
  },
  {
   "cell_type": "code",
   "execution_count": null,
   "metadata": {},
   "outputs": [],
   "source": [
    "zonas = ['norte', 'sul', 'leste', 'oeste']\n",
    "URL='https://imoveis.mercadolivre.com.br/casas/aluguel/sao-paulo/sao-paulo-zona-{}/{}'\n",
    "paginas = ['', '_Desde_49', '_Desde_97', '_Desde_145', '_Desde_193', \n",
    "           '_Desde_241', '_Desde_289']"
   ]
  },
  {
   "cell_type": "code",
   "execution_count": null,
   "metadata": {},
   "outputs": [],
   "source": [
    "def scrap(url):\n",
    "    c = requests.get(url).content\n",
    "    soup = BeautifulSoup(c)\n",
    "    lista_precos_tags = soup.find_all('span', {'class':'price-tag-fraction'})\n",
    "    lista_precos  = [tag.text for tag in lista_precos_tags]\n",
    "    lista_area_quartos_tags = soup.find_all('ul', {'class':'ui-search-card-attributes'})\n",
    "    lista_area_quartos = [info.text for info in lista_area_quartos_tags ]\n",
    "    lista_enderecos_tags = soup.find_all('span' , {'class':'ui-search-item__group__element'})\n",
    "    lista_enderecos = [end.text for end in lista_enderecos_tags]\n",
    "    lista_enderecos = lista_enderecos[1::2]\n",
    "    df=convert_df(zona, lista_area_quartos, lista_enderecos, lista_precos)\n",
    "    return df\n",
    "\n",
    "\n",
    "def convert_df(zona, lista_area_quartos, lista_enderecos, lista_precos):\n",
    "    zonas_lista = [zona]*len(lista_precos)\n",
    "    data = {'zona': zonas_lista,\n",
    "            'area_quartos': lista_area_quartos,\n",
    "            'enderecos_lista':lista_enderecos,\n",
    "            'aluguel': lista_precos}\n",
    "    df = pd.DataFrame(data)\n",
    "    return df"
   ]
  },
  {
   "cell_type": "code",
   "execution_count": null,
   "metadata": {},
   "outputs": [],
   "source": [
    "lista_dfs = []\n",
    "for zona in zonas:\n",
    "    for pag in paginas:\n",
    "        url='https://imoveis.mercadolivre.com.br/aluguel/sao-paulo/sao-paulo-zona-{}/{}'.format(zona,pag)\n",
    "        print(url)\n",
    "        df=scrap(url)\n",
    "        lista_dfs.append(df)\n",
    "        sleep(1)"
   ]
  },
  {
   "cell_type": "code",
   "execution_count": null,
   "metadata": {},
   "outputs": [],
   "source": [
    "df = pd.concat(lista_dfs)"
   ]
  },
  {
   "cell_type": "code",
   "execution_count": null,
   "metadata": {},
   "outputs": [],
   "source": [
    "df.head()"
   ]
  },
  {
   "cell_type": "code",
   "execution_count": null,
   "metadata": {},
   "outputs": [],
   "source": [
    "df.to_csv('dados_aluguels_imoveis_ml_sao_paulo.csv', index =False , encoding = 'latin-1')"
   ]
  },
  {
   "cell_type": "code",
   "execution_count": null,
   "metadata": {},
   "outputs": [],
   "source": []
  }
 ],
 "metadata": {
  "kernelspec": {
   "display_name": "Python 3",
   "language": "python",
   "name": "python3"
  },
  "language_info": {
   "codemirror_mode": {
    "name": "ipython",
    "version": 3
   },
   "file_extension": ".py",
   "mimetype": "text/x-python",
   "name": "python",
   "nbconvert_exporter": "python",
   "pygments_lexer": "ipython3",
   "version": "3.8.3"
  },
  "widgets": {
   "application/vnd.jupyter.widget-state+json": {
    "state": {},
    "version_major": 2,
    "version_minor": 0
   }
  }
 },
 "nbformat": 4,
 "nbformat_minor": 4
}
